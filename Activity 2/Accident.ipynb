{
 "cells": [
  {
   "cell_type": "markdown",
   "id": "5dd4d508-7bf5-4a62-8c85-e13f71c74fdb",
   "metadata": {},
   "source": [
    "<h1>Emmanuel M. Aviles | Accident Activity</h1>"
   ]
  },
  {
   "cell_type": "markdown",
   "id": "f45c53e9-1c9b-4c73-aab7-6ba87c76b3f3",
   "metadata": {},
   "source": [
    "<h2> 1. Imports </h2>"
   ]
  },
  {
   "cell_type": "code",
   "execution_count": 1,
   "id": "82b4fe22-2e5a-42cb-8b85-589df5122584",
   "metadata": {},
   "outputs": [],
   "source": [
    "import numpy as np \n",
    "import matplotlib.pyplot as plt\n",
    "import pandas as pd\n",
    "import warnings\n",
    "warnings.filterwarnings('ignore')\n",
    "import matplotlib.pyplot as plt"
   ]
  },
  {
   "cell_type": "markdown",
   "id": "6c5af0af-667d-40c6-b49e-42343c9508b6",
   "metadata": {},
   "source": [
    "<h2>2. Data </h2>"
   ]
  },
  {
   "cell_type": "code",
   "execution_count": 2,
   "id": "58fb87ab-c5e4-4c11-bca9-415aa3c43a93",
   "metadata": {},
   "outputs": [
    {
     "data": {
      "text/html": [
       "<div>\n",
       "<style scoped>\n",
       "    .dataframe tbody tr th:only-of-type {\n",
       "        vertical-align: middle;\n",
       "    }\n",
       "\n",
       "    .dataframe tbody tr th {\n",
       "        vertical-align: top;\n",
       "    }\n",
       "\n",
       "    .dataframe thead th {\n",
       "        text-align: right;\n",
       "    }\n",
       "</style>\n",
       "<table border=\"1\" class=\"dataframe\">\n",
       "  <thead>\n",
       "    <tr style=\"text-align: right;\">\n",
       "      <th></th>\n",
       "      <th>Index</th>\n",
       "      <th>Accident_Severity</th>\n",
       "      <th>Accident Date</th>\n",
       "      <th>Latitude</th>\n",
       "      <th>Light_Conditions</th>\n",
       "      <th>District Area</th>\n",
       "      <th>Longitude</th>\n",
       "      <th>Number_of_Casualties</th>\n",
       "      <th>Number_of_Vehicles</th>\n",
       "      <th>Road_Surface_Conditions</th>\n",
       "      <th>Road_Type</th>\n",
       "      <th>Urban_or_Rural_Area</th>\n",
       "      <th>Weather_Conditions</th>\n",
       "      <th>Vehicle_Type</th>\n",
       "    </tr>\n",
       "  </thead>\n",
       "  <tbody>\n",
       "    <tr>\n",
       "      <th>0</th>\n",
       "      <td>200701BS64157</td>\n",
       "      <td>Serious</td>\n",
       "      <td>5/6/2019</td>\n",
       "      <td>51.506187</td>\n",
       "      <td>Darkness - lights lit</td>\n",
       "      <td>Kensington and Chelsea</td>\n",
       "      <td>-0.209082</td>\n",
       "      <td>1</td>\n",
       "      <td>2</td>\n",
       "      <td>Dry</td>\n",
       "      <td>Single carriageway</td>\n",
       "      <td>Urban</td>\n",
       "      <td>Fine no high winds</td>\n",
       "      <td>Car</td>\n",
       "    </tr>\n",
       "    <tr>\n",
       "      <th>1</th>\n",
       "      <td>200701BS65737</td>\n",
       "      <td>Serious</td>\n",
       "      <td>2/7/2019</td>\n",
       "      <td>51.495029</td>\n",
       "      <td>Daylight</td>\n",
       "      <td>Kensington and Chelsea</td>\n",
       "      <td>-0.173647</td>\n",
       "      <td>1</td>\n",
       "      <td>2</td>\n",
       "      <td>Wet or damp</td>\n",
       "      <td>Single carriageway</td>\n",
       "      <td>Urban</td>\n",
       "      <td>Raining no high winds</td>\n",
       "      <td>Car</td>\n",
       "    </tr>\n",
       "    <tr>\n",
       "      <th>2</th>\n",
       "      <td>200701BS66127</td>\n",
       "      <td>Serious</td>\n",
       "      <td>26-08-2019</td>\n",
       "      <td>51.517715</td>\n",
       "      <td>Darkness - lighting unknown</td>\n",
       "      <td>Kensington and Chelsea</td>\n",
       "      <td>-0.210215</td>\n",
       "      <td>1</td>\n",
       "      <td>3</td>\n",
       "      <td>Dry</td>\n",
       "      <td>NaN</td>\n",
       "      <td>Urban</td>\n",
       "      <td>NaN</td>\n",
       "      <td>Taxi/Private hire car</td>\n",
       "    </tr>\n",
       "    <tr>\n",
       "      <th>3</th>\n",
       "      <td>200701BS66128</td>\n",
       "      <td>Serious</td>\n",
       "      <td>16-08-2019</td>\n",
       "      <td>51.495478</td>\n",
       "      <td>Daylight</td>\n",
       "      <td>Kensington and Chelsea</td>\n",
       "      <td>-0.202731</td>\n",
       "      <td>1</td>\n",
       "      <td>4</td>\n",
       "      <td>Dry</td>\n",
       "      <td>Single carriageway</td>\n",
       "      <td>Urban</td>\n",
       "      <td>Fine no high winds</td>\n",
       "      <td>Bus or coach (17 or more pass seats)</td>\n",
       "    </tr>\n",
       "    <tr>\n",
       "      <th>4</th>\n",
       "      <td>200701BS66837</td>\n",
       "      <td>Slight</td>\n",
       "      <td>3/9/2019</td>\n",
       "      <td>51.488576</td>\n",
       "      <td>Darkness - lights lit</td>\n",
       "      <td>Kensington and Chelsea</td>\n",
       "      <td>-0.192487</td>\n",
       "      <td>1</td>\n",
       "      <td>2</td>\n",
       "      <td>Dry</td>\n",
       "      <td>NaN</td>\n",
       "      <td>Urban</td>\n",
       "      <td>NaN</td>\n",
       "      <td>Other vehicle</td>\n",
       "    </tr>\n",
       "    <tr>\n",
       "      <th>...</th>\n",
       "      <td>...</td>\n",
       "      <td>...</td>\n",
       "      <td>...</td>\n",
       "      <td>...</td>\n",
       "      <td>...</td>\n",
       "      <td>...</td>\n",
       "      <td>...</td>\n",
       "      <td>...</td>\n",
       "      <td>...</td>\n",
       "      <td>...</td>\n",
       "      <td>...</td>\n",
       "      <td>...</td>\n",
       "      <td>...</td>\n",
       "      <td>...</td>\n",
       "    </tr>\n",
       "    <tr>\n",
       "      <th>660674</th>\n",
       "      <td>201091NM01760</td>\n",
       "      <td>Slight</td>\n",
       "      <td>18-02-2022</td>\n",
       "      <td>57.374005</td>\n",
       "      <td>Daylight</td>\n",
       "      <td>Highland</td>\n",
       "      <td>-3.467828</td>\n",
       "      <td>2</td>\n",
       "      <td>1</td>\n",
       "      <td>Dry</td>\n",
       "      <td>Single carriageway</td>\n",
       "      <td>Rural</td>\n",
       "      <td>Fine no high winds</td>\n",
       "      <td>Car</td>\n",
       "    </tr>\n",
       "    <tr>\n",
       "      <th>660675</th>\n",
       "      <td>201091NM01881</td>\n",
       "      <td>Slight</td>\n",
       "      <td>21-02-2022</td>\n",
       "      <td>57.232273</td>\n",
       "      <td>Darkness - no lighting</td>\n",
       "      <td>Highland</td>\n",
       "      <td>-3.809281</td>\n",
       "      <td>1</td>\n",
       "      <td>1</td>\n",
       "      <td>Frost or ice</td>\n",
       "      <td>Single carriageway</td>\n",
       "      <td>Rural</td>\n",
       "      <td>Fine no high winds</td>\n",
       "      <td>Car</td>\n",
       "    </tr>\n",
       "    <tr>\n",
       "      <th>660676</th>\n",
       "      <td>201091NM01935</td>\n",
       "      <td>Slight</td>\n",
       "      <td>23-02-2022</td>\n",
       "      <td>57.585044</td>\n",
       "      <td>Daylight</td>\n",
       "      <td>Highland</td>\n",
       "      <td>-3.862727</td>\n",
       "      <td>1</td>\n",
       "      <td>3</td>\n",
       "      <td>Frost or ice</td>\n",
       "      <td>Single carriageway</td>\n",
       "      <td>Rural</td>\n",
       "      <td>Fine no high winds</td>\n",
       "      <td>Car</td>\n",
       "    </tr>\n",
       "    <tr>\n",
       "      <th>660677</th>\n",
       "      <td>201091NM01964</td>\n",
       "      <td>Serious</td>\n",
       "      <td>23-02-2022</td>\n",
       "      <td>57.214898</td>\n",
       "      <td>Darkness - no lighting</td>\n",
       "      <td>Highland</td>\n",
       "      <td>-3.823997</td>\n",
       "      <td>1</td>\n",
       "      <td>2</td>\n",
       "      <td>Wet or damp</td>\n",
       "      <td>Single carriageway</td>\n",
       "      <td>Rural</td>\n",
       "      <td>Fine no high winds</td>\n",
       "      <td>Motorcycle over 500cc</td>\n",
       "    </tr>\n",
       "    <tr>\n",
       "      <th>660678</th>\n",
       "      <td>201091NM02142</td>\n",
       "      <td>Serious</td>\n",
       "      <td>28-02-2022</td>\n",
       "      <td>57.575210</td>\n",
       "      <td>Daylight</td>\n",
       "      <td>Highland</td>\n",
       "      <td>-3.895673</td>\n",
       "      <td>1</td>\n",
       "      <td>1</td>\n",
       "      <td>Wet or damp</td>\n",
       "      <td>Dual carriageway</td>\n",
       "      <td>Rural</td>\n",
       "      <td>Snowing no high winds</td>\n",
       "      <td>Car</td>\n",
       "    </tr>\n",
       "  </tbody>\n",
       "</table>\n",
       "<p>660679 rows × 14 columns</p>\n",
       "</div>"
      ],
      "text/plain": [
       "                Index Accident_Severity Accident Date   Latitude  \\\n",
       "0       200701BS64157           Serious      5/6/2019  51.506187   \n",
       "1       200701BS65737           Serious      2/7/2019  51.495029   \n",
       "2       200701BS66127           Serious    26-08-2019  51.517715   \n",
       "3       200701BS66128           Serious    16-08-2019  51.495478   \n",
       "4       200701BS66837            Slight      3/9/2019  51.488576   \n",
       "...               ...               ...           ...        ...   \n",
       "660674  201091NM01760            Slight    18-02-2022  57.374005   \n",
       "660675  201091NM01881            Slight    21-02-2022  57.232273   \n",
       "660676  201091NM01935            Slight    23-02-2022  57.585044   \n",
       "660677  201091NM01964           Serious    23-02-2022  57.214898   \n",
       "660678  201091NM02142           Serious    28-02-2022  57.575210   \n",
       "\n",
       "                   Light_Conditions           District Area  Longitude  \\\n",
       "0             Darkness - lights lit  Kensington and Chelsea  -0.209082   \n",
       "1                          Daylight  Kensington and Chelsea  -0.173647   \n",
       "2       Darkness - lighting unknown  Kensington and Chelsea  -0.210215   \n",
       "3                          Daylight  Kensington and Chelsea  -0.202731   \n",
       "4             Darkness - lights lit  Kensington and Chelsea  -0.192487   \n",
       "...                             ...                     ...        ...   \n",
       "660674                     Daylight                Highland  -3.467828   \n",
       "660675       Darkness - no lighting                Highland  -3.809281   \n",
       "660676                     Daylight                Highland  -3.862727   \n",
       "660677       Darkness - no lighting                Highland  -3.823997   \n",
       "660678                     Daylight                Highland  -3.895673   \n",
       "\n",
       "        Number_of_Casualties  Number_of_Vehicles Road_Surface_Conditions  \\\n",
       "0                          1                   2                     Dry   \n",
       "1                          1                   2             Wet or damp   \n",
       "2                          1                   3                     Dry   \n",
       "3                          1                   4                     Dry   \n",
       "4                          1                   2                     Dry   \n",
       "...                      ...                 ...                     ...   \n",
       "660674                     2                   1                     Dry   \n",
       "660675                     1                   1            Frost or ice   \n",
       "660676                     1                   3            Frost or ice   \n",
       "660677                     1                   2             Wet or damp   \n",
       "660678                     1                   1             Wet or damp   \n",
       "\n",
       "                 Road_Type Urban_or_Rural_Area     Weather_Conditions  \\\n",
       "0       Single carriageway               Urban     Fine no high winds   \n",
       "1       Single carriageway               Urban  Raining no high winds   \n",
       "2                      NaN               Urban                    NaN   \n",
       "3       Single carriageway               Urban     Fine no high winds   \n",
       "4                      NaN               Urban                    NaN   \n",
       "...                    ...                 ...                    ...   \n",
       "660674  Single carriageway               Rural     Fine no high winds   \n",
       "660675  Single carriageway               Rural     Fine no high winds   \n",
       "660676  Single carriageway               Rural     Fine no high winds   \n",
       "660677  Single carriageway               Rural     Fine no high winds   \n",
       "660678    Dual carriageway               Rural  Snowing no high winds   \n",
       "\n",
       "                                Vehicle_Type  \n",
       "0                                        Car  \n",
       "1                                        Car  \n",
       "2                      Taxi/Private hire car  \n",
       "3       Bus or coach (17 or more pass seats)  \n",
       "4                              Other vehicle  \n",
       "...                                      ...  \n",
       "660674                                   Car  \n",
       "660675                                   Car  \n",
       "660676                                   Car  \n",
       "660677                 Motorcycle over 500cc  \n",
       "660678                                   Car  \n",
       "\n",
       "[660679 rows x 14 columns]"
      ]
     },
     "execution_count": 2,
     "metadata": {},
     "output_type": "execute_result"
    }
   ],
   "source": [
    "df = pd.read_csv('uk_road_accident.csv')\n",
    "df"
   ]
  },
  {
   "cell_type": "code",
   "execution_count": 3,
   "id": "b592bd9f-9718-4813-91ce-f5699c4aef68",
   "metadata": {},
   "outputs": [],
   "source": [
    "df['Accident Date'] = pd.to_datetime(df['Accident Date'], errors='coerce')"
   ]
  },
  {
   "cell_type": "code",
   "execution_count": 4,
   "id": "e461d473-9a94-4515-b372-b811df0d00d2",
   "metadata": {},
   "outputs": [],
   "source": [
    "df['Month'] = df['Accident Date'].dt.month\n",
    "df['DayOfWeek'] = df['Accident Date'].dt.day_name()"
   ]
  },
  {
   "cell_type": "markdown",
   "id": "a5ef2089-4a5b-49f3-aa18-46b11a1c0f75",
   "metadata": {},
   "source": [
    "<h2>3.Data Information</h2>"
   ]
  },
  {
   "cell_type": "code",
   "execution_count": 5,
   "id": "4b9206b7-c893-4fb7-a02b-f25b5fbd11ea",
   "metadata": {},
   "outputs": [
    {
     "name": "stdout",
     "output_type": "stream",
     "text": [
      "<class 'pandas.core.frame.DataFrame'>\n",
      "RangeIndex: 660679 entries, 0 to 660678\n",
      "Data columns (total 16 columns):\n",
      " #   Column                   Non-Null Count   Dtype         \n",
      "---  ------                   --------------   -----         \n",
      " 0   Index                    660679 non-null  object        \n",
      " 1   Accident_Severity        660679 non-null  object        \n",
      " 2   Accident Date            265007 non-null  datetime64[ns]\n",
      " 3   Latitude                 660654 non-null  float64       \n",
      " 4   Light_Conditions         660679 non-null  object        \n",
      " 5   District Area            660679 non-null  object        \n",
      " 6   Longitude                660653 non-null  float64       \n",
      " 7   Number_of_Casualties     660679 non-null  int64         \n",
      " 8   Number_of_Vehicles       660679 non-null  int64         \n",
      " 9   Road_Surface_Conditions  659953 non-null  object        \n",
      " 10  Road_Type                656159 non-null  object        \n",
      " 11  Urban_or_Rural_Area      660664 non-null  object        \n",
      " 12  Weather_Conditions       646551 non-null  object        \n",
      " 13  Vehicle_Type             660679 non-null  object        \n",
      " 14  Month                    265007 non-null  float64       \n",
      " 15  DayOfWeek                265007 non-null  object        \n",
      "dtypes: datetime64[ns](1), float64(3), int64(2), object(10)\n",
      "memory usage: 80.6+ MB\n"
     ]
    }
   ],
   "source": [
    "df.info()"
   ]
  },
  {
   "cell_type": "markdown",
   "id": "dbb9e4ea-5dda-4d27-82e4-895fbd3f10e2",
   "metadata": {},
   "source": [
    "<h2>4. Basic Descriptive Statistics</h2>"
   ]
  },
  {
   "cell_type": "code",
   "execution_count": 6,
   "id": "727cf359-c03b-4900-a44a-782dd9923c30",
   "metadata": {},
   "outputs": [
    {
     "data": {
      "text/html": [
       "<div>\n",
       "<style scoped>\n",
       "    .dataframe tbody tr th:only-of-type {\n",
       "        vertical-align: middle;\n",
       "    }\n",
       "\n",
       "    .dataframe tbody tr th {\n",
       "        vertical-align: top;\n",
       "    }\n",
       "\n",
       "    .dataframe thead th {\n",
       "        text-align: right;\n",
       "    }\n",
       "</style>\n",
       "<table border=\"1\" class=\"dataframe\">\n",
       "  <thead>\n",
       "    <tr style=\"text-align: right;\">\n",
       "      <th></th>\n",
       "      <th>Accident Date</th>\n",
       "      <th>Latitude</th>\n",
       "      <th>Longitude</th>\n",
       "      <th>Number_of_Casualties</th>\n",
       "      <th>Number_of_Vehicles</th>\n",
       "      <th>Month</th>\n",
       "    </tr>\n",
       "  </thead>\n",
       "  <tbody>\n",
       "    <tr>\n",
       "      <th>count</th>\n",
       "      <td>265007</td>\n",
       "      <td>660654.000000</td>\n",
       "      <td>660653.000000</td>\n",
       "      <td>660679.000000</td>\n",
       "      <td>660679.000000</td>\n",
       "      <td>265007.000000</td>\n",
       "    </tr>\n",
       "    <tr>\n",
       "      <th>mean</th>\n",
       "      <td>2020-11-18 04:53:34.375468544</td>\n",
       "      <td>52.553866</td>\n",
       "      <td>-1.431210</td>\n",
       "      <td>1.357040</td>\n",
       "      <td>1.831255</td>\n",
       "      <td>6.522028</td>\n",
       "    </tr>\n",
       "    <tr>\n",
       "      <th>min</th>\n",
       "      <td>2019-01-01 00:00:00</td>\n",
       "      <td>49.914430</td>\n",
       "      <td>-7.516225</td>\n",
       "      <td>1.000000</td>\n",
       "      <td>1.000000</td>\n",
       "      <td>1.000000</td>\n",
       "    </tr>\n",
       "    <tr>\n",
       "      <th>25%</th>\n",
       "      <td>2019-12-02 00:00:00</td>\n",
       "      <td>51.490690</td>\n",
       "      <td>-2.332291</td>\n",
       "      <td>1.000000</td>\n",
       "      <td>1.000000</td>\n",
       "      <td>4.000000</td>\n",
       "    </tr>\n",
       "    <tr>\n",
       "      <th>50%</th>\n",
       "      <td>2020-11-05 00:00:00</td>\n",
       "      <td>52.315641</td>\n",
       "      <td>-1.411667</td>\n",
       "      <td>1.000000</td>\n",
       "      <td>2.000000</td>\n",
       "      <td>7.000000</td>\n",
       "    </tr>\n",
       "    <tr>\n",
       "      <th>75%</th>\n",
       "      <td>2021-11-05 00:00:00</td>\n",
       "      <td>53.453452</td>\n",
       "      <td>-0.232869</td>\n",
       "      <td>1.000000</td>\n",
       "      <td>2.000000</td>\n",
       "      <td>10.000000</td>\n",
       "    </tr>\n",
       "    <tr>\n",
       "      <th>max</th>\n",
       "      <td>2022-12-12 00:00:00</td>\n",
       "      <td>60.757544</td>\n",
       "      <td>1.762010</td>\n",
       "      <td>68.000000</td>\n",
       "      <td>32.000000</td>\n",
       "      <td>12.000000</td>\n",
       "    </tr>\n",
       "    <tr>\n",
       "      <th>std</th>\n",
       "      <td>NaN</td>\n",
       "      <td>1.406922</td>\n",
       "      <td>1.383330</td>\n",
       "      <td>0.824847</td>\n",
       "      <td>0.715269</td>\n",
       "      <td>3.467063</td>\n",
       "    </tr>\n",
       "  </tbody>\n",
       "</table>\n",
       "</div>"
      ],
      "text/plain": [
       "                       Accident Date       Latitude      Longitude  \\\n",
       "count                         265007  660654.000000  660653.000000   \n",
       "mean   2020-11-18 04:53:34.375468544      52.553866      -1.431210   \n",
       "min              2019-01-01 00:00:00      49.914430      -7.516225   \n",
       "25%              2019-12-02 00:00:00      51.490690      -2.332291   \n",
       "50%              2020-11-05 00:00:00      52.315641      -1.411667   \n",
       "75%              2021-11-05 00:00:00      53.453452      -0.232869   \n",
       "max              2022-12-12 00:00:00      60.757544       1.762010   \n",
       "std                              NaN       1.406922       1.383330   \n",
       "\n",
       "       Number_of_Casualties  Number_of_Vehicles          Month  \n",
       "count         660679.000000       660679.000000  265007.000000  \n",
       "mean               1.357040            1.831255       6.522028  \n",
       "min                1.000000            1.000000       1.000000  \n",
       "25%                1.000000            1.000000       4.000000  \n",
       "50%                1.000000            2.000000       7.000000  \n",
       "75%                1.000000            2.000000      10.000000  \n",
       "max               68.000000           32.000000      12.000000  \n",
       "std                0.824847            0.715269       3.467063  "
      ]
     },
     "execution_count": 6,
     "metadata": {},
     "output_type": "execute_result"
    }
   ],
   "source": [
    "df.describe()"
   ]
  },
  {
   "cell_type": "markdown",
   "id": "21aeac36-2dcb-404d-85ab-98a78d6c67dc",
   "metadata": {},
   "source": [
    "<h2>5. Checking Null Values</h2>"
   ]
  },
  {
   "cell_type": "code",
   "execution_count": 7,
   "id": "26eddf39-2cf2-4aff-b01b-1a9c77a582aa",
   "metadata": {},
   "outputs": [
    {
     "data": {
      "text/plain": [
       "Index                           0\n",
       "Accident_Severity               0\n",
       "Accident Date              395672\n",
       "Latitude                       25\n",
       "Light_Conditions                0\n",
       "District Area                   0\n",
       "Longitude                      26\n",
       "Number_of_Casualties            0\n",
       "Number_of_Vehicles              0\n",
       "Road_Surface_Conditions       726\n",
       "Road_Type                    4520\n",
       "Urban_or_Rural_Area            15\n",
       "Weather_Conditions          14128\n",
       "Vehicle_Type                    0\n",
       "Month                      395672\n",
       "DayOfWeek                  395672\n",
       "dtype: int64"
      ]
     },
     "execution_count": 7,
     "metadata": {},
     "output_type": "execute_result"
    }
   ],
   "source": [
    "df.isnull().sum()"
   ]
  },
  {
   "cell_type": "markdown",
   "id": "4b5d5d04-ff4d-4354-a6b0-9feb90a921d7",
   "metadata": {},
   "source": [
    "<h2>6. Filling Null Values</h2>"
   ]
  },
  {
   "cell_type": "code",
   "execution_count": 8,
   "id": "8e5a779f-20ac-441b-ab70-5d9126875fc5",
   "metadata": {},
   "outputs": [],
   "source": [
    "df['Latitude'] = df['Latitude'].fillna(df['Latitude'].mode()[0])\n",
    "df['Longitude'] = df['Longitude'].fillna(df['Longitude'].mode()[0])\n",
    "df['Road_Surface_Conditions'] = df['Road_Surface_Conditions'].fillna(df['Road_Surface_Conditions'].mode()[0])\n",
    "df['Road_Type'] = df['Road_Type'].fillna(df['Road_Type'].mode()[0])\n",
    "df['Urban_or_Rural_Area'] = df['Urban_or_Rural_Area'].fillna(df['Urban_or_Rural_Area'].mode()[0])\n",
    "df['Weather_Conditions'] = df['Weather_Conditions'].fillna(df['Weather_Conditions'].mode()[0])"
   ]
  },
  {
   "cell_type": "code",
   "execution_count": 9,
   "id": "7fdcc265-4121-4eef-9999-e36c4c6245b1",
   "metadata": {},
   "outputs": [
    {
     "data": {
      "text/plain": [
       "Index                           0\n",
       "Accident_Severity               0\n",
       "Accident Date              395672\n",
       "Latitude                        0\n",
       "Light_Conditions                0\n",
       "District Area                   0\n",
       "Longitude                       0\n",
       "Number_of_Casualties            0\n",
       "Number_of_Vehicles              0\n",
       "Road_Surface_Conditions         0\n",
       "Road_Type                       0\n",
       "Urban_or_Rural_Area             0\n",
       "Weather_Conditions              0\n",
       "Vehicle_Type                    0\n",
       "Month                      395672\n",
       "DayOfWeek                  395672\n",
       "dtype: int64"
      ]
     },
     "execution_count": 9,
     "metadata": {},
     "output_type": "execute_result"
    }
   ],
   "source": [
    "df.isnull().sum()"
   ]
  },
  {
   "cell_type": "markdown",
   "id": "c13535c3-c4c7-43ae-8b23-54687fa39cf5",
   "metadata": {},
   "source": [
    "<h2>7. Checking Data Columns</h2>"
   ]
  },
  {
   "cell_type": "code",
   "execution_count": 10,
   "id": "292e7823-5d2e-4139-86a7-8980bcdb9e46",
   "metadata": {},
   "outputs": [
    {
     "data": {
      "text/plain": [
       "Index                              object\n",
       "Accident_Severity                  object\n",
       "Accident Date              datetime64[ns]\n",
       "Latitude                          float64\n",
       "Light_Conditions                   object\n",
       "District Area                      object\n",
       "Longitude                         float64\n",
       "Number_of_Casualties                int64\n",
       "Number_of_Vehicles                  int64\n",
       "Road_Surface_Conditions            object\n",
       "Road_Type                          object\n",
       "Urban_or_Rural_Area                object\n",
       "Weather_Conditions                 object\n",
       "Vehicle_Type                       object\n",
       "Month                             float64\n",
       "DayOfWeek                          object\n",
       "dtype: object"
      ]
     },
     "execution_count": 10,
     "metadata": {},
     "output_type": "execute_result"
    }
   ],
   "source": [
    "df.dtypes"
   ]
  },
  {
   "cell_type": "code",
   "execution_count": 11,
   "id": "104de49e-fb18-4862-92d5-e36351e0924e",
   "metadata": {},
   "outputs": [
    {
     "data": {
      "text/html": [
       "<div>\n",
       "<style scoped>\n",
       "    .dataframe tbody tr th:only-of-type {\n",
       "        vertical-align: middle;\n",
       "    }\n",
       "\n",
       "    .dataframe tbody tr th {\n",
       "        vertical-align: top;\n",
       "    }\n",
       "\n",
       "    .dataframe thead th {\n",
       "        text-align: right;\n",
       "    }\n",
       "</style>\n",
       "<table border=\"1\" class=\"dataframe\">\n",
       "  <thead>\n",
       "    <tr style=\"text-align: right;\">\n",
       "      <th></th>\n",
       "      <th>Index</th>\n",
       "      <th>Accident_Severity</th>\n",
       "      <th>Accident Date</th>\n",
       "      <th>Latitude</th>\n",
       "      <th>Light_Conditions</th>\n",
       "      <th>District Area</th>\n",
       "      <th>Longitude</th>\n",
       "      <th>Number_of_Casualties</th>\n",
       "      <th>Number_of_Vehicles</th>\n",
       "      <th>Road_Surface_Conditions</th>\n",
       "      <th>Road_Type</th>\n",
       "      <th>Urban_or_Rural_Area</th>\n",
       "      <th>Weather_Conditions</th>\n",
       "      <th>Vehicle_Type</th>\n",
       "      <th>Month</th>\n",
       "      <th>DayOfWeek</th>\n",
       "    </tr>\n",
       "  </thead>\n",
       "  <tbody>\n",
       "    <tr>\n",
       "      <th>0</th>\n",
       "      <td>200701BS64157</td>\n",
       "      <td>Serious</td>\n",
       "      <td>2019-05-06</td>\n",
       "      <td>51.506187</td>\n",
       "      <td>Darkness - lights lit</td>\n",
       "      <td>Kensington and Chelsea</td>\n",
       "      <td>-0.209082</td>\n",
       "      <td>1</td>\n",
       "      <td>2</td>\n",
       "      <td>Dry</td>\n",
       "      <td>Single carriageway</td>\n",
       "      <td>Urban</td>\n",
       "      <td>Fine no high winds</td>\n",
       "      <td>Car</td>\n",
       "      <td>5.0</td>\n",
       "      <td>Monday</td>\n",
       "    </tr>\n",
       "    <tr>\n",
       "      <th>1</th>\n",
       "      <td>200701BS65737</td>\n",
       "      <td>Serious</td>\n",
       "      <td>2019-02-07</td>\n",
       "      <td>51.495029</td>\n",
       "      <td>Daylight</td>\n",
       "      <td>Kensington and Chelsea</td>\n",
       "      <td>-0.173647</td>\n",
       "      <td>1</td>\n",
       "      <td>2</td>\n",
       "      <td>Wet or damp</td>\n",
       "      <td>Single carriageway</td>\n",
       "      <td>Urban</td>\n",
       "      <td>Raining no high winds</td>\n",
       "      <td>Car</td>\n",
       "      <td>2.0</td>\n",
       "      <td>Thursday</td>\n",
       "    </tr>\n",
       "    <tr>\n",
       "      <th>2</th>\n",
       "      <td>200701BS66127</td>\n",
       "      <td>Serious</td>\n",
       "      <td>NaT</td>\n",
       "      <td>51.517715</td>\n",
       "      <td>Darkness - lighting unknown</td>\n",
       "      <td>Kensington and Chelsea</td>\n",
       "      <td>-0.210215</td>\n",
       "      <td>1</td>\n",
       "      <td>3</td>\n",
       "      <td>Dry</td>\n",
       "      <td>Single carriageway</td>\n",
       "      <td>Urban</td>\n",
       "      <td>Fine no high winds</td>\n",
       "      <td>Taxi/Private hire car</td>\n",
       "      <td>NaN</td>\n",
       "      <td>NaN</td>\n",
       "    </tr>\n",
       "    <tr>\n",
       "      <th>3</th>\n",
       "      <td>200701BS66128</td>\n",
       "      <td>Serious</td>\n",
       "      <td>NaT</td>\n",
       "      <td>51.495478</td>\n",
       "      <td>Daylight</td>\n",
       "      <td>Kensington and Chelsea</td>\n",
       "      <td>-0.202731</td>\n",
       "      <td>1</td>\n",
       "      <td>4</td>\n",
       "      <td>Dry</td>\n",
       "      <td>Single carriageway</td>\n",
       "      <td>Urban</td>\n",
       "      <td>Fine no high winds</td>\n",
       "      <td>Bus or coach (17 or more pass seats)</td>\n",
       "      <td>NaN</td>\n",
       "      <td>NaN</td>\n",
       "    </tr>\n",
       "    <tr>\n",
       "      <th>4</th>\n",
       "      <td>200701BS66837</td>\n",
       "      <td>Slight</td>\n",
       "      <td>2019-03-09</td>\n",
       "      <td>51.488576</td>\n",
       "      <td>Darkness - lights lit</td>\n",
       "      <td>Kensington and Chelsea</td>\n",
       "      <td>-0.192487</td>\n",
       "      <td>1</td>\n",
       "      <td>2</td>\n",
       "      <td>Dry</td>\n",
       "      <td>Single carriageway</td>\n",
       "      <td>Urban</td>\n",
       "      <td>Fine no high winds</td>\n",
       "      <td>Other vehicle</td>\n",
       "      <td>3.0</td>\n",
       "      <td>Saturday</td>\n",
       "    </tr>\n",
       "    <tr>\n",
       "      <th>...</th>\n",
       "      <td>...</td>\n",
       "      <td>...</td>\n",
       "      <td>...</td>\n",
       "      <td>...</td>\n",
       "      <td>...</td>\n",
       "      <td>...</td>\n",
       "      <td>...</td>\n",
       "      <td>...</td>\n",
       "      <td>...</td>\n",
       "      <td>...</td>\n",
       "      <td>...</td>\n",
       "      <td>...</td>\n",
       "      <td>...</td>\n",
       "      <td>...</td>\n",
       "      <td>...</td>\n",
       "      <td>...</td>\n",
       "    </tr>\n",
       "    <tr>\n",
       "      <th>660674</th>\n",
       "      <td>201091NM01760</td>\n",
       "      <td>Slight</td>\n",
       "      <td>NaT</td>\n",
       "      <td>57.374005</td>\n",
       "      <td>Daylight</td>\n",
       "      <td>Highland</td>\n",
       "      <td>-3.467828</td>\n",
       "      <td>2</td>\n",
       "      <td>1</td>\n",
       "      <td>Dry</td>\n",
       "      <td>Single carriageway</td>\n",
       "      <td>Rural</td>\n",
       "      <td>Fine no high winds</td>\n",
       "      <td>Car</td>\n",
       "      <td>NaN</td>\n",
       "      <td>NaN</td>\n",
       "    </tr>\n",
       "    <tr>\n",
       "      <th>660675</th>\n",
       "      <td>201091NM01881</td>\n",
       "      <td>Slight</td>\n",
       "      <td>NaT</td>\n",
       "      <td>57.232273</td>\n",
       "      <td>Darkness - no lighting</td>\n",
       "      <td>Highland</td>\n",
       "      <td>-3.809281</td>\n",
       "      <td>1</td>\n",
       "      <td>1</td>\n",
       "      <td>Frost or ice</td>\n",
       "      <td>Single carriageway</td>\n",
       "      <td>Rural</td>\n",
       "      <td>Fine no high winds</td>\n",
       "      <td>Car</td>\n",
       "      <td>NaN</td>\n",
       "      <td>NaN</td>\n",
       "    </tr>\n",
       "    <tr>\n",
       "      <th>660676</th>\n",
       "      <td>201091NM01935</td>\n",
       "      <td>Slight</td>\n",
       "      <td>NaT</td>\n",
       "      <td>57.585044</td>\n",
       "      <td>Daylight</td>\n",
       "      <td>Highland</td>\n",
       "      <td>-3.862727</td>\n",
       "      <td>1</td>\n",
       "      <td>3</td>\n",
       "      <td>Frost or ice</td>\n",
       "      <td>Single carriageway</td>\n",
       "      <td>Rural</td>\n",
       "      <td>Fine no high winds</td>\n",
       "      <td>Car</td>\n",
       "      <td>NaN</td>\n",
       "      <td>NaN</td>\n",
       "    </tr>\n",
       "    <tr>\n",
       "      <th>660677</th>\n",
       "      <td>201091NM01964</td>\n",
       "      <td>Serious</td>\n",
       "      <td>NaT</td>\n",
       "      <td>57.214898</td>\n",
       "      <td>Darkness - no lighting</td>\n",
       "      <td>Highland</td>\n",
       "      <td>-3.823997</td>\n",
       "      <td>1</td>\n",
       "      <td>2</td>\n",
       "      <td>Wet or damp</td>\n",
       "      <td>Single carriageway</td>\n",
       "      <td>Rural</td>\n",
       "      <td>Fine no high winds</td>\n",
       "      <td>Motorcycle over 500cc</td>\n",
       "      <td>NaN</td>\n",
       "      <td>NaN</td>\n",
       "    </tr>\n",
       "    <tr>\n",
       "      <th>660678</th>\n",
       "      <td>201091NM02142</td>\n",
       "      <td>Serious</td>\n",
       "      <td>NaT</td>\n",
       "      <td>57.575210</td>\n",
       "      <td>Daylight</td>\n",
       "      <td>Highland</td>\n",
       "      <td>-3.895673</td>\n",
       "      <td>1</td>\n",
       "      <td>1</td>\n",
       "      <td>Wet or damp</td>\n",
       "      <td>Dual carriageway</td>\n",
       "      <td>Rural</td>\n",
       "      <td>Snowing no high winds</td>\n",
       "      <td>Car</td>\n",
       "      <td>NaN</td>\n",
       "      <td>NaN</td>\n",
       "    </tr>\n",
       "  </tbody>\n",
       "</table>\n",
       "<p>660679 rows × 16 columns</p>\n",
       "</div>"
      ],
      "text/plain": [
       "                Index Accident_Severity Accident Date   Latitude  \\\n",
       "0       200701BS64157           Serious    2019-05-06  51.506187   \n",
       "1       200701BS65737           Serious    2019-02-07  51.495029   \n",
       "2       200701BS66127           Serious           NaT  51.517715   \n",
       "3       200701BS66128           Serious           NaT  51.495478   \n",
       "4       200701BS66837            Slight    2019-03-09  51.488576   \n",
       "...               ...               ...           ...        ...   \n",
       "660674  201091NM01760            Slight           NaT  57.374005   \n",
       "660675  201091NM01881            Slight           NaT  57.232273   \n",
       "660676  201091NM01935            Slight           NaT  57.585044   \n",
       "660677  201091NM01964           Serious           NaT  57.214898   \n",
       "660678  201091NM02142           Serious           NaT  57.575210   \n",
       "\n",
       "                   Light_Conditions           District Area  Longitude  \\\n",
       "0             Darkness - lights lit  Kensington and Chelsea  -0.209082   \n",
       "1                          Daylight  Kensington and Chelsea  -0.173647   \n",
       "2       Darkness - lighting unknown  Kensington and Chelsea  -0.210215   \n",
       "3                          Daylight  Kensington and Chelsea  -0.202731   \n",
       "4             Darkness - lights lit  Kensington and Chelsea  -0.192487   \n",
       "...                             ...                     ...        ...   \n",
       "660674                     Daylight                Highland  -3.467828   \n",
       "660675       Darkness - no lighting                Highland  -3.809281   \n",
       "660676                     Daylight                Highland  -3.862727   \n",
       "660677       Darkness - no lighting                Highland  -3.823997   \n",
       "660678                     Daylight                Highland  -3.895673   \n",
       "\n",
       "        Number_of_Casualties  Number_of_Vehicles Road_Surface_Conditions  \\\n",
       "0                          1                   2                     Dry   \n",
       "1                          1                   2             Wet or damp   \n",
       "2                          1                   3                     Dry   \n",
       "3                          1                   4                     Dry   \n",
       "4                          1                   2                     Dry   \n",
       "...                      ...                 ...                     ...   \n",
       "660674                     2                   1                     Dry   \n",
       "660675                     1                   1            Frost or ice   \n",
       "660676                     1                   3            Frost or ice   \n",
       "660677                     1                   2             Wet or damp   \n",
       "660678                     1                   1             Wet or damp   \n",
       "\n",
       "                 Road_Type Urban_or_Rural_Area     Weather_Conditions  \\\n",
       "0       Single carriageway               Urban     Fine no high winds   \n",
       "1       Single carriageway               Urban  Raining no high winds   \n",
       "2       Single carriageway               Urban     Fine no high winds   \n",
       "3       Single carriageway               Urban     Fine no high winds   \n",
       "4       Single carriageway               Urban     Fine no high winds   \n",
       "...                    ...                 ...                    ...   \n",
       "660674  Single carriageway               Rural     Fine no high winds   \n",
       "660675  Single carriageway               Rural     Fine no high winds   \n",
       "660676  Single carriageway               Rural     Fine no high winds   \n",
       "660677  Single carriageway               Rural     Fine no high winds   \n",
       "660678    Dual carriageway               Rural  Snowing no high winds   \n",
       "\n",
       "                                Vehicle_Type  Month DayOfWeek  \n",
       "0                                        Car    5.0    Monday  \n",
       "1                                        Car    2.0  Thursday  \n",
       "2                      Taxi/Private hire car    NaN       NaN  \n",
       "3       Bus or coach (17 or more pass seats)    NaN       NaN  \n",
       "4                              Other vehicle    3.0  Saturday  \n",
       "...                                      ...    ...       ...  \n",
       "660674                                   Car    NaN       NaN  \n",
       "660675                                   Car    NaN       NaN  \n",
       "660676                                   Car    NaN       NaN  \n",
       "660677                 Motorcycle over 500cc    NaN       NaN  \n",
       "660678                                   Car    NaN       NaN  \n",
       "\n",
       "[660679 rows x 16 columns]"
      ]
     },
     "execution_count": 11,
     "metadata": {},
     "output_type": "execute_result"
    }
   ],
   "source": [
    "df"
   ]
  },
  {
   "cell_type": "markdown",
   "id": "832c3f39-9467-4314-ac9a-c6ae26bd37bf",
   "metadata": {},
   "source": [
    "<h1>20 QUESTIONS AND 20 INSIGHTS</h1>"
   ]
  },
  {
   "cell_type": "markdown",
   "id": "e16af433-4e8b-4e03-afb5-e3feefc32197",
   "metadata": {},
   "source": [
    "<H2>1. What is the distribution of accident severity overall?</H2>"
   ]
  },
  {
   "cell_type": "code",
   "execution_count": 12,
   "id": "473172da-a108-4b35-a65f-a3bd495157fa",
   "metadata": {},
   "outputs": [
    {
     "data": {
      "text/plain": [
       "Accident_Severity\n",
       "Slight     0.853366\n",
       "Serious    0.133525\n",
       "Fatal      0.013109\n",
       "Name: proportion, dtype: float64"
      ]
     },
     "execution_count": 12,
     "metadata": {},
     "output_type": "execute_result"
    }
   ],
   "source": [
    "df['Accident_Severity'].value_counts(normalize=True)"
   ]
  },
  {
   "cell_type": "markdown",
   "id": "e2328e08-88ba-414e-b3c5-1fc19b023105",
   "metadata": {},
   "source": [
    "<h2>Insights: The severity of the accidents are divided into 3, it was slight,serious and fatal according to the result most of the time casualty of the accidents was only minor but still there are serious and fatal damage to some accidents. </h2>"
   ]
  },
  {
   "cell_type": "markdown",
   "id": "943431d4-97a4-430f-a6e8-89bf25b5fadd",
   "metadata": {},
   "source": [
    "<h2>2. Which district has the most accidents?</h2>"
   ]
  },
  {
   "cell_type": "code",
   "execution_count": 35,
   "id": "15b2b987-0e19-42c4-8e4b-3a18335aa36f",
   "metadata": {},
   "outputs": [
    {
     "data": {
      "text/plain": [
       "District Area\n",
       "Birmingham            13491\n",
       "Leeds                  8898\n",
       "Manchester             6720\n",
       "Bradford               6212\n",
       "Sheffield              5710\n",
       "                      ...  \n",
       "Berwick-upon-Tweed      153\n",
       "Teesdale                142\n",
       "Shetland Islands        133\n",
       "Orkney Islands          117\n",
       "Clackmannanshire         91\n",
       "Name: count, Length: 422, dtype: int64"
      ]
     },
     "execution_count": 35,
     "metadata": {},
     "output_type": "execute_result"
    }
   ],
   "source": [
    "df['District Area'].value_counts()"
   ]
  },
  {
   "cell_type": "markdown",
   "id": "99c12661-3cc8-4b1c-b03a-f202994e46b4",
   "metadata": {},
   "source": [
    "<h2>Insights: It shows that among the districts that noted in this data Birmingham surpass the others accidents by far, It has 13,491 and the following was only 8898 Leeds District. </h2>"
   ]
  },
  {
   "cell_type": "markdown",
   "id": "31424662-9205-42b6-b0c9-c3d413457515",
   "metadata": {},
   "source": [
    "<h2>3. What time of year has the most accidents?</h2>"
   ]
  },
  {
   "cell_type": "code",
   "execution_count": 14,
   "id": "20686a51-56a3-4c4f-94f7-e64a495eabee",
   "metadata": {},
   "outputs": [
    {
     "data": {
      "text/plain": [
       "Month\n",
       "1.0     22606\n",
       "2.0     21815\n",
       "3.0     21540\n",
       "4.0     21699\n",
       "5.0     22409\n",
       "6.0     21974\n",
       "7.0     21431\n",
       "8.0     21914\n",
       "9.0     22252\n",
       "10.0    22328\n",
       "11.0    22503\n",
       "12.0    22536\n",
       "Name: count, dtype: int64"
      ]
     },
     "execution_count": 14,
     "metadata": {},
     "output_type": "execute_result"
    }
   ],
   "source": [
    "df['Accident Date'] = pd.to_datetime(df['Accident Date'])\n",
    "df['Month'] = df['Accident Date'].dt.month\n",
    "df['Month'].value_counts().sort_index()"
   ]
  },
  {
   "cell_type": "markdown",
   "id": "4b7da21d-32ff-42e9-b54c-936a3f6d9f07",
   "metadata": {},
   "source": [
    "<h2>Insights: The accidents that occured throughout the year, but the highest number occurs in January (22606), followed closely by December (22536) and November (22503). These months fall in the winter season, which may worsening weather conditions, shorter daylight hours, and increased accident risk during this time of year. </h2>"
   ]
  },
  {
   "cell_type": "markdown",
   "id": "eaa9d5ba-0d37-4855-86a7-4f889f27ae3d",
   "metadata": {},
   "source": [
    "<h2>4. How does weather affect accident severity?</h2>"
   ]
  },
  {
   "cell_type": "code",
   "execution_count": 15,
   "id": "cbf5f417-a568-4dba-bddf-ba9995b482c4",
   "metadata": {},
   "outputs": [
    {
     "data": {
      "text/plain": [
       "Weather_Conditions     Accident_Severity\n",
       "Fine + high winds      Slight               83.399579\n",
       "                       Serious              14.554594\n",
       "                       Fatal                 2.045827\n",
       "Fine no high winds     Slight               84.955132\n",
       "                       Serious              13.697798\n",
       "                       Fatal                 1.347070\n",
       "Fog or mist            Slight               83.985261\n",
       "                       Serious              13.690476\n",
       "                       Fatal                 2.324263\n",
       "Other                  Slight               88.536443\n",
       "                       Serious              10.501458\n",
       "                       Fatal                 0.962099\n",
       "Raining + high winds   Slight               85.377015\n",
       "                       Serious              13.114925\n",
       "                       Fatal                 1.508060\n",
       "Raining no high winds  Slight               87.055812\n",
       "                       Serious              11.880145\n",
       "                       Fatal                 1.064043\n",
       "Snowing + high winds   Slight               87.344633\n",
       "                       Serious              12.316384\n",
       "                       Fatal                 0.338983\n",
       "Snowing no high winds  Slight               90.365502\n",
       "                       Serious               9.057390\n",
       "                       Fatal                 0.577108\n",
       "Name: proportion, dtype: float64"
      ]
     },
     "execution_count": 15,
     "metadata": {},
     "output_type": "execute_result"
    }
   ],
   "source": [
    "df.groupby('Weather_Conditions')['Accident_Severity'].value_counts(normalize=True)* 100"
   ]
  },
  {
   "cell_type": "markdown",
   "id": "5a8875d3-fdd6-40eb-90a3-ed5d757757d5",
   "metadata": {},
   "source": [
    "<h2>Insights: Accidents that occur during fog or mist have the highest proportion of fatal outcomes which indicates that reduced visibility is a significant risk factor for severe accidents. </h2>"
   ]
  },
  {
   "cell_type": "markdown",
   "id": "86fbf875-16b4-4b56-b5bc-970202edc394",
   "metadata": {},
   "source": [
    "<h2>Insights: And accidents that occur during snowing + high winds are the least fatal accidents because when you check number 9 it only has 90 accidents total which means drivers on these events are in their home or very careful while driving. </h2>"
   ]
  },
  {
   "cell_type": "markdown",
   "id": "f6452e1c-2289-4a52-b97c-c9b3a6a1b545",
   "metadata": {},
   "source": [
    "<h2>5. Which one do more accidents? is it urban or rural areas?</h2>"
   ]
  },
  {
   "cell_type": "code",
   "execution_count": 16,
   "id": "7c8af5c3-329d-44dc-939f-f4bef60623d2",
   "metadata": {},
   "outputs": [
    {
     "data": {
      "text/plain": [
       "Urban_or_Rural_Area\n",
       "Urban          421678\n",
       "Rural          238990\n",
       "Unallocated        11\n",
       "Name: count, dtype: int64"
      ]
     },
     "execution_count": 16,
     "metadata": {},
     "output_type": "execute_result"
    }
   ],
   "source": [
    "df['Urban_or_Rural_Area'].value_counts()"
   ]
  },
  {
   "cell_type": "markdown",
   "id": "1251a868-ffd2-4408-bf9f-52da4e73466d",
   "metadata": {},
   "source": [
    "<h2>Insights: According to the outcome of the data there are more accidents in Urban Areas, Base on that we can assume that, because it is more populated than Rural. </h2>"
   ]
  },
  {
   "cell_type": "markdown",
   "id": "bdb36f54-82e8-4554-9ad4-294297e3b920",
   "metadata": {},
   "source": [
    "<h2>Insights: But according to number 14 rural has more fatality so it means most of urban percentage accidents are minor and serious. Because it is more populated than rural areas </h2>"
   ]
  },
  {
   "cell_type": "markdown",
   "id": "7bbd7455-1673-41fc-82d5-ee30871fc6af",
   "metadata": {},
   "source": [
    "<H2>6. What light conditions are most dangerous?</H2>"
   ]
  },
  {
   "cell_type": "code",
   "execution_count": 17,
   "id": "05d07a3c-e464-4195-a236-056704b0b128",
   "metadata": {},
   "outputs": [
    {
     "data": {
      "text/plain": [
       "Light_Conditions             Accident_Severity\n",
       "Darkness - lighting unknown  Slight               86.705737\n",
       "                             Serious              12.245527\n",
       "                             Fatal                 1.048735\n",
       "Darkness - lights lit        Slight               83.770828\n",
       "                             Serious              14.791047\n",
       "                             Fatal                 1.438126\n",
       "Darkness - lights unlit      Slight               84.073928\n",
       "                             Serious              14.156508\n",
       "                             Fatal                 1.769564\n",
       "Darkness - no lighting       Slight               76.531239\n",
       "                             Serious              19.162860\n",
       "                             Fatal                 4.305901\n",
       "Daylight                     Slight               86.422414\n",
       "                             Serious              12.530729\n",
       "                             Fatal                 1.046857\n",
       "Name: proportion, dtype: float64"
      ]
     },
     "execution_count": 17,
     "metadata": {},
     "output_type": "execute_result"
    }
   ],
   "source": [
    "df.groupby('Light_Conditions')['Accident_Severity'].value_counts(normalize=True)* 100"
   ]
  },
  {
   "cell_type": "markdown",
   "id": "990b61c5-abcc-460c-8f6b-7bb68a82215b",
   "metadata": {},
   "source": [
    "<h2>Insights: The most dangerous light condition is \"Darkness - no lighting\", which has the highest proportion of fatal accidents than the other light conditions.</h2>"
   ]
  },
  {
   "cell_type": "markdown",
   "id": "87e0205f-b212-4c26-b2f3-4300216f8460",
   "metadata": {},
   "source": [
    "<h2>7. Which road types see the most severe accidents? </h2>"
   ]
  },
  {
   "cell_type": "code",
   "execution_count": 18,
   "id": "4916f917-64a4-4668-ad41-afc483bbf8ff",
   "metadata": {},
   "outputs": [
    {
     "data": {
      "text/plain": [
       "Road_Type           Accident_Severity\n",
       "Dual carriageway    Slight               86.360436\n",
       "                    Serious              11.814049\n",
       "                    Fatal                 1.825515\n",
       "One way street      Slight               87.093443\n",
       "                    Serious              12.205915\n",
       "                    Fatal                 0.700642\n",
       "Roundabout          Slight               91.346154\n",
       "                    Serious               8.331060\n",
       "                    Fatal                 0.322786\n",
       "Single carriageway  Slight               84.476395\n",
       "                    Serious              14.202789\n",
       "                    Fatal                 1.320815\n",
       "Slip road           Slight               90.626331\n",
       "                    Serious               8.677745\n",
       "                    Fatal                 0.695924\n",
       "Name: proportion, dtype: float64"
      ]
     },
     "execution_count": 18,
     "metadata": {},
     "output_type": "execute_result"
    }
   ],
   "source": [
    "df.groupby('Road_Type')['Accident_Severity'].value_counts(normalize=True)* 100"
   ]
  },
  {
   "cell_type": "markdown",
   "id": "a698f822-7fd5-445e-9ab7-f1d568eca43a",
   "metadata": {},
   "source": [
    "<h2>Insights: Single carriageways have the highest percentage of serious accidents compared to other road types, indicating these roads are relatively more dangerous in terms of accident severity.</h2>"
   ]
  },
  {
   "cell_type": "markdown",
   "id": "dcb29e62-ecc0-408c-a415-56362748c15f",
   "metadata": {},
   "source": [
    "<h2>8. What vehicle types are involved in the most accidents? </h2>"
   ]
  },
  {
   "cell_type": "code",
   "execution_count": 19,
   "id": "9eedac9f-1090-4d35-a1c2-329eacf9c4c8",
   "metadata": {},
   "outputs": [
    {
     "data": {
      "text/plain": [
       "Vehicle_Type\n",
       "Car                                      497992\n",
       "Van / Goods 3.5 tonnes mgw or under       34160\n",
       "Bus or coach (17 or more pass seats)      25878\n",
       "Motorcycle over 500cc                     25657\n",
       "Goods 7.5 tonnes mgw and over             17307\n",
       "Motorcycle 125cc and under                15269\n",
       "Taxi/Private hire car                     13294\n",
       "Motorcycle over 125cc and up to 500cc      7656\n",
       "Motorcycle 50cc and under                  7603\n",
       "Goods over 3.5t. and under 7.5t            6096\n",
       "Other vehicle                              5637\n",
       "Minibus (8 - 16 passenger seats)           1976\n",
       "Agricultural vehicle                       1947\n",
       "Pedal cycle                                 197\n",
       "Data missing or out of range                  6\n",
       "Ridden horse                                  4\n",
       "Name: count, dtype: int64"
      ]
     },
     "execution_count": 19,
     "metadata": {},
     "output_type": "execute_result"
    }
   ],
   "source": [
    "df['Vehicle_Type'].value_counts()"
   ]
  },
  {
   "cell_type": "markdown",
   "id": "f285baaa-5402-474d-b3a2-866465fb5666",
   "metadata": {},
   "source": [
    "<h2>Insights: Cars have the highest percentage of serious accidents compared to other vehicle types, and it is followed by van but it has a very wide margin among the others.</h2>"
   ]
  },
  {
   "cell_type": "markdown",
   "id": "c2cf5369-c96b-4f76-a136-e1de8f5c31f2",
   "metadata": {},
   "source": [
    "<h2>9. Is there a relationship between vehicle type and casualties?</h2>"
   ]
  },
  {
   "cell_type": "code",
   "execution_count": 20,
   "id": "44c81f89-00b3-4cf0-b5da-8a2957033e8a",
   "metadata": {},
   "outputs": [
    {
     "data": {
      "text/plain": [
       "Vehicle_Type\n",
       "Agricultural vehicle                       1947\n",
       "Bus or coach (17 or more pass seats)      25878\n",
       "Car                                      497992\n",
       "Data missing or out of range                  6\n",
       "Goods 7.5 tonnes mgw and over             17307\n",
       "Goods over 3.5t. and under 7.5t            6096\n",
       "Minibus (8 - 16 passenger seats)           1976\n",
       "Motorcycle 125cc and under                15269\n",
       "Motorcycle 50cc and under                  7603\n",
       "Motorcycle over 125cc and up to 500cc      7656\n",
       "Motorcycle over 500cc                     25657\n",
       "Other vehicle                              5637\n",
       "Pedal cycle                                 197\n",
       "Ridden horse                                  4\n",
       "Taxi/Private hire car                     13294\n",
       "Van / Goods 3.5 tonnes mgw or under       34160\n",
       "Name: Number_of_Casualties, dtype: int64"
      ]
     },
     "execution_count": 20,
     "metadata": {},
     "output_type": "execute_result"
    }
   ],
   "source": [
    "df.groupby('Vehicle_Type')['Number_of_Casualties'].count()"
   ]
  },
  {
   "cell_type": "markdown",
   "id": "e693f206-3864-4eed-8c06-267a3a985363",
   "metadata": {},
   "source": [
    "<h2>Insights: Cars being the most common vehicle type, also contribute the largest number of casualties overall. This aligns with their dominant presence on the roads. </h2>"
   ]
  },
  {
   "cell_type": "markdown",
   "id": "f11e12fe-c149-4f76-9010-d693eb8f1a6e",
   "metadata": {},
   "source": [
    "<h2>10. Which day(s) of the week have the most accidents?</h2>"
   ]
  },
  {
   "cell_type": "code",
   "execution_count": 21,
   "id": "d86b3d28-e847-493f-b608-a6e294c6330b",
   "metadata": {},
   "outputs": [
    {
     "data": {
      "text/plain": [
       "Day Of Week\n",
       "Tuesday      39701\n",
       "Friday       38511\n",
       "Thursday     38009\n",
       "Sunday       37772\n",
       "Saturday     37751\n",
       "Wednesday    37548\n",
       "Monday       35715\n",
       "Name: count, dtype: int64"
      ]
     },
     "execution_count": 21,
     "metadata": {},
     "output_type": "execute_result"
    }
   ],
   "source": [
    "df['Day Of Week'] = df['Accident Date'].dt.day_name()\n",
    "df['Day Of Week'].value_counts()"
   ]
  },
  {
   "cell_type": "markdown",
   "id": "99682eed-c19c-45a8-af4d-32c072bb86e4",
   "metadata": {},
   "source": [
    "<h2>Insights: Tuesday records the highest number of accidents (39,701), It's followed by Friday (38,511) and Thursday (38,009).\n",
    "and weekends (Saturday and Sunday) also show high accident counts both around 37,700 . Monday has the fewest accidents (35,715), well maybe because people are not yet on the mood to work that drains them.</h2>"
   ]
  },
  {
   "cell_type": "markdown",
   "id": "9ba8e1a1-4b7c-4802-b885-8d51df0c71c1",
   "metadata": {},
   "source": [
    "<h2>11. Do accidents happens in the same geographic areas?</h2>"
   ]
  },
  {
   "cell_type": "code",
   "execution_count": 22,
   "id": "104e6a79-3d34-4801-8e04-44ca871e99f0",
   "metadata": {},
   "outputs": [
    {
     "data": {
      "text/plain": [
       "Lat_Lon\n",
       "52.459,-1.871    66\n",
       "51.461,-0.116    58\n",
       "51.571,-0.096    56\n",
       "51.495,-0.101    53\n",
       "52.473,-1.875    51\n",
       "51.59,-0.2       50\n",
       "51.474,-0.093    48\n",
       "51.525,-0.035    47\n",
       "51.52,-0.056     45\n",
       "52.95,-0.978     45\n",
       "Name: count, dtype: int64"
      ]
     },
     "execution_count": 22,
     "metadata": {},
     "output_type": "execute_result"
    }
   ],
   "source": [
    "df['Lat_Lon'] = df[['Latitude', 'Longitude']].round(3).astype(str).agg(','.join, axis=1)\n",
    "df['Lat_Lon'].value_counts().head(10)"
   ]
  },
  {
   "cell_type": "markdown",
   "id": "da7341f8-72bf-40bc-a383-cb706b65ef0f",
   "metadata": {},
   "source": [
    "<h2>Insights: Yes there was some occurence of the accident happens on the same place.</h2>"
   ]
  },
  {
   "cell_type": "markdown",
   "id": "d7827094-dc99-4d84-8daf-d0a7f792e969",
   "metadata": {},
   "source": [
    "<h2>12. Is there any road conditions that are more dangerous? </h2>"
   ]
  },
  {
   "cell_type": "code",
   "execution_count": 23,
   "id": "5908fed1-dcad-4025-8f3f-ac8d6d5bc83a",
   "metadata": {},
   "outputs": [
    {
     "data": {
      "text/plain": [
       "Road_Surface_Conditions  Accident_Severity\n",
       "Dry                      Slight               84.951856\n",
       "                         Serious              13.757310\n",
       "                         Fatal                 1.290835\n",
       "Flood over 3cm. deep     Slight               82.792527\n",
       "                         Serious              14.945919\n",
       "                         Fatal                 2.261554\n",
       "Frost or ice             Slight               88.119026\n",
       "                         Serious              10.838689\n",
       "                         Fatal                 1.042285\n",
       "Snow                     Slight               89.813243\n",
       "                         Serious               9.592530\n",
       "                         Fatal                 0.594228\n",
       "Wet or damp              Slight               85.857596\n",
       "                         Serious              12.739143\n",
       "                         Fatal                 1.403261\n",
       "Name: proportion, dtype: float64"
      ]
     },
     "execution_count": 23,
     "metadata": {},
     "output_type": "execute_result"
    }
   ],
   "source": [
    "df.groupby('Road_Surface_Conditions')['Accident_Severity'].value_counts(normalize=True)* 100"
   ]
  },
  {
   "cell_type": "markdown",
   "id": "a832cbef-3535-489b-a0eb-699a20911253",
   "metadata": {},
   "source": [
    "<h2>Insights: The data shows that Flood over 3cm deep is the most dangerous road surface condition, with the highest fatal accident rate at 2.26%, which is above compare to other conditions. It also has a high serious accident rate (14.95%), making it the most severe overall.</h2>"
   ]
  },
  {
   "cell_type": "markdown",
   "id": "444d34a8-98cb-4f51-a21b-52551198d61d",
   "metadata": {},
   "source": [
    "<h2>Insights: and the most least was the snow which is kinda confusing because we know there are several effects of snowing like slippery roads, snow vision and etc. But we can also think that its the most least fatal because vehicles on that day mostly don't go out.</h2>"
   ]
  },
  {
   "cell_type": "markdown",
   "id": "9a5af9fb-cc21-49e2-a90e-9ed7b6900e7a",
   "metadata": {},
   "source": [
    "<h2>13. How many casualties occur per accident on average?</h2>"
   ]
  },
  {
   "cell_type": "code",
   "execution_count": 24,
   "id": "490a2eff-f0ce-4845-9955-511d05af53a5",
   "metadata": {},
   "outputs": [
    {
     "data": {
      "text/plain": [
       "np.float64(1.357040257068864)"
      ]
     },
     "execution_count": 24,
     "metadata": {},
     "output_type": "execute_result"
    }
   ],
   "source": [
    "df['Number_of_Casualties'].mean()"
   ]
  },
  {
   "cell_type": "markdown",
   "id": "7d4aba5f-91d2-4e79-a009-2e010eeca78f",
   "metadata": {},
   "source": [
    "<h2>Insights: The data shows that Flood over 3cm deep is the most dangerous road surface condition, with the highest fatal accident rate at 2.26%, which is above compare to other conditions. It also has a high serious accident rate (14.95%), making it the most severe overall.</h2>"
   ]
  },
  {
   "cell_type": "markdown",
   "id": "1d3cdbce-c286-416c-b327-6f51805430f9",
   "metadata": {},
   "source": [
    "<h2>14. Are fatal accidents more common in rural areas?</h2>"
   ]
  },
  {
   "cell_type": "code",
   "execution_count": 25,
   "id": "8ace0522-0f87-4683-aee0-f60fa64d169c",
   "metadata": {},
   "outputs": [
    {
     "data": {
      "text/plain": [
       "5601"
      ]
     },
     "execution_count": 25,
     "metadata": {},
     "output_type": "execute_result"
    }
   ],
   "source": [
    "rural_fatal = df[(df['Urban_or_Rural_Area'] == 'Rural') & (df['Accident_Severity'] == 'Fatal')]\n",
    "len(rural_fatal)"
   ]
  },
  {
   "cell_type": "code",
   "execution_count": 26,
   "id": "301719f0-c362-4d41-a912-63ff7364df7f",
   "metadata": {},
   "outputs": [
    {
     "data": {
      "text/plain": [
       "3060"
      ]
     },
     "execution_count": 26,
     "metadata": {},
     "output_type": "execute_result"
    }
   ],
   "source": [
    "rural_fatal = df[(df['Urban_or_Rural_Area'] == 'Urban') & (df['Accident_Severity'] == 'Fatal')]\n",
    "len(rural_fatal)"
   ]
  },
  {
   "cell_type": "markdown",
   "id": "8abd4df7-a779-47d1-a87d-f4bf1873b268",
   "metadata": {},
   "source": [
    "<h2>Insights: Yes there is base on the outcome the rural has the 5601 fatal accidents and the urban has 3060 fatal crashes even though urban area is more populated area than rural, accidents that happen in rural at is a has more fatality then urban we can assume that the road conditions is not maintained because it is outside and city, not always notice by the people, light condition in the post are weak it does not give much visibility, weather are more violent because no buildings will block it and most of the time overspeeding because rural area roads have much faster pacing because its not crowded."
   ]
  },
  {
   "cell_type": "markdown",
   "id": "b838bfd0-43aa-4925-8170-c4ac055d893a",
   "metadata": {},
   "source": [
    "<h2>15. Which weather condition had the most vehicle accidents?</h2>"
   ]
  },
  {
   "cell_type": "code",
   "execution_count": 27,
   "id": "40c1456a-ddaf-457f-bd32-ee7c590852e7",
   "metadata": {},
   "outputs": [
    {
     "data": {
      "text/plain": [
       "Weather_Conditions\n",
       "Fine + high winds          853\n",
       "Fine no high winds       54556\n",
       "Fog or mist                420\n",
       "Other                     1628\n",
       "Raining + high winds      1032\n",
       "Raining no high winds     8672\n",
       "Snowing + high winds        90\n",
       "Snowing no high winds      646\n",
       "dtype: int64"
      ]
     },
     "execution_count": 27,
     "metadata": {},
     "output_type": "execute_result"
    }
   ],
   "source": [
    "df[df['Number_of_Vehicles'] > 2].groupby('Weather_Conditions').size()"
   ]
  },
  {
   "cell_type": "markdown",
   "id": "f95d1d39-fd61-4f5d-8682-e92deb7c41fb",
   "metadata": {},
   "source": [
    "<h2>Insights: Base on the outcome \"Fine no high winds\" is the weather condition associated with by far the most vehicle accidents followed by Raining no winds. It has more crashes because more cars often drive on that weather.</h2>"
   ]
  },
  {
   "cell_type": "markdown",
   "id": "2481af89-e234-4914-b45b-aeadc0e89fab",
   "metadata": {},
   "source": [
    "<h2>Insights: Which is kinda because we know that snowing + highwinds suppose to be the very dangerous weather to drive and yet it was only 90 we can assume that people are not dumb enough to drive through this weather condition.</h2>\n"
   ]
  },
  {
   "cell_type": "markdown",
   "id": "ff58d3ac-3eb7-4da3-8c5e-e767b0b69bef",
   "metadata": {},
   "source": [
    "<h2>16. What’s the correlation between number of vehicles and severity?</h2>"
   ]
  },
  {
   "cell_type": "code",
   "execution_count": 28,
   "id": "7d16a849-4baa-4997-80b1-1c718e3b5a52",
   "metadata": {},
   "outputs": [
    {
     "data": {
      "text/html": [
       "<div>\n",
       "<style scoped>\n",
       "    .dataframe tbody tr th:only-of-type {\n",
       "        vertical-align: middle;\n",
       "    }\n",
       "\n",
       "    .dataframe tbody tr th {\n",
       "        vertical-align: top;\n",
       "    }\n",
       "\n",
       "    .dataframe thead th {\n",
       "        text-align: right;\n",
       "    }\n",
       "</style>\n",
       "<table border=\"1\" class=\"dataframe\">\n",
       "  <thead>\n",
       "    <tr style=\"text-align: right;\">\n",
       "      <th></th>\n",
       "      <th>Number_of_Vehicles</th>\n",
       "      <th>Number_of_Casualties</th>\n",
       "    </tr>\n",
       "  </thead>\n",
       "  <tbody>\n",
       "    <tr>\n",
       "      <th>Number_of_Vehicles</th>\n",
       "      <td>1.000000</td>\n",
       "      <td>0.228889</td>\n",
       "    </tr>\n",
       "    <tr>\n",
       "      <th>Number_of_Casualties</th>\n",
       "      <td>0.228889</td>\n",
       "      <td>1.000000</td>\n",
       "    </tr>\n",
       "  </tbody>\n",
       "</table>\n",
       "</div>"
      ],
      "text/plain": [
       "                      Number_of_Vehicles  Number_of_Casualties\n",
       "Number_of_Vehicles              1.000000              0.228889\n",
       "Number_of_Casualties            0.228889              1.000000"
      ]
     },
     "execution_count": 28,
     "metadata": {},
     "output_type": "execute_result"
    }
   ],
   "source": [
    "df[['Number_of_Vehicles', 'Number_of_Casualties']].corr()"
   ]
  },
  {
   "cell_type": "markdown",
   "id": "6e79969c-62e0-491f-9663-3c4fd2d9d9db",
   "metadata": {},
   "source": [
    "<h2>Insights: There are no correlation on these two or we can say it has a weak correlation that cant be consider correlated. </h2>"
   ]
  },
  {
   "cell_type": "markdown",
   "id": "39285e6b-ac46-4ab1-977d-ec2966562782",
   "metadata": {},
   "source": [
    "<h2>17. Are there specific districts with unusual accident types or frequencies?</h2>"
   ]
  },
  {
   "cell_type": "code",
   "execution_count": 29,
   "id": "866cb29a-809a-4273-9829-3924a9bd8314",
   "metadata": {},
   "outputs": [
    {
     "data": {
      "text/html": [
       "<div>\n",
       "<style scoped>\n",
       "    .dataframe tbody tr th:only-of-type {\n",
       "        vertical-align: middle;\n",
       "    }\n",
       "\n",
       "    .dataframe tbody tr th {\n",
       "        vertical-align: top;\n",
       "    }\n",
       "\n",
       "    .dataframe thead th {\n",
       "        text-align: right;\n",
       "    }\n",
       "</style>\n",
       "<table border=\"1\" class=\"dataframe\">\n",
       "  <thead>\n",
       "    <tr style=\"text-align: right;\">\n",
       "      <th>Accident_Severity</th>\n",
       "      <th>Fatal</th>\n",
       "      <th>Serious</th>\n",
       "      <th>Slight</th>\n",
       "    </tr>\n",
       "    <tr>\n",
       "      <th>District Area</th>\n",
       "      <th></th>\n",
       "      <th></th>\n",
       "      <th></th>\n",
       "    </tr>\n",
       "  </thead>\n",
       "  <tbody>\n",
       "    <tr>\n",
       "      <th>Aberdeen City</th>\n",
       "      <td>12</td>\n",
       "      <td>239</td>\n",
       "      <td>1072</td>\n",
       "    </tr>\n",
       "    <tr>\n",
       "      <th>Aberdeenshire</th>\n",
       "      <td>66</td>\n",
       "      <td>463</td>\n",
       "      <td>1401</td>\n",
       "    </tr>\n",
       "    <tr>\n",
       "      <th>Adur</th>\n",
       "      <td>8</td>\n",
       "      <td>101</td>\n",
       "      <td>510</td>\n",
       "    </tr>\n",
       "    <tr>\n",
       "      <th>Allerdale</th>\n",
       "      <td>24</td>\n",
       "      <td>143</td>\n",
       "      <td>961</td>\n",
       "    </tr>\n",
       "    <tr>\n",
       "      <th>Alnwick</th>\n",
       "      <td>6</td>\n",
       "      <td>33</td>\n",
       "      <td>193</td>\n",
       "    </tr>\n",
       "    <tr>\n",
       "      <th>...</th>\n",
       "      <td>...</td>\n",
       "      <td>...</td>\n",
       "      <td>...</td>\n",
       "    </tr>\n",
       "    <tr>\n",
       "      <th>Wychavon</th>\n",
       "      <td>30</td>\n",
       "      <td>193</td>\n",
       "      <td>1138</td>\n",
       "    </tr>\n",
       "    <tr>\n",
       "      <th>Wycombe</th>\n",
       "      <td>20</td>\n",
       "      <td>216</td>\n",
       "      <td>1493</td>\n",
       "    </tr>\n",
       "    <tr>\n",
       "      <th>Wyre</th>\n",
       "      <td>15</td>\n",
       "      <td>186</td>\n",
       "      <td>1037</td>\n",
       "    </tr>\n",
       "    <tr>\n",
       "      <th>Wyre Forest</th>\n",
       "      <td>22</td>\n",
       "      <td>132</td>\n",
       "      <td>815</td>\n",
       "    </tr>\n",
       "    <tr>\n",
       "      <th>York</th>\n",
       "      <td>21</td>\n",
       "      <td>255</td>\n",
       "      <td>1621</td>\n",
       "    </tr>\n",
       "  </tbody>\n",
       "</table>\n",
       "<p>422 rows × 3 columns</p>\n",
       "</div>"
      ],
      "text/plain": [
       "Accident_Severity  Fatal  Serious  Slight\n",
       "District Area                            \n",
       "Aberdeen City         12      239    1072\n",
       "Aberdeenshire         66      463    1401\n",
       "Adur                   8      101     510\n",
       "Allerdale             24      143     961\n",
       "Alnwick                6       33     193\n",
       "...                  ...      ...     ...\n",
       "Wychavon              30      193    1138\n",
       "Wycombe               20      216    1493\n",
       "Wyre                  15      186    1037\n",
       "Wyre Forest           22      132     815\n",
       "York                  21      255    1621\n",
       "\n",
       "[422 rows x 3 columns]"
      ]
     },
     "execution_count": 29,
     "metadata": {},
     "output_type": "execute_result"
    }
   ],
   "source": [
    "df.groupby('District Area')['Accident_Severity'].value_counts().unstack().fillna(0).astype(int)"
   ]
  },
  {
   "cell_type": "markdown",
   "id": "ac4477ba-c1ad-4e06-abf3-2678aa41d492",
   "metadata": {},
   "source": [
    "<h2>Insights: The Aberdeenshire shows a high number of fatal accidents than other districts which means rural road conditions, speeding, or access issues to emergency services.</h2>"
   ]
  },
  {
   "cell_type": "markdown",
   "id": "2bbef6b2-3d70-44ff-87b5-e2cab873eae1",
   "metadata": {},
   "source": [
    "<h2>18. Is accident severity seasonal?</h2>"
   ]
  },
  {
   "cell_type": "code",
   "execution_count": 30,
   "id": "94984d65-3abc-4023-9aa2-9aa4991519c1",
   "metadata": {},
   "outputs": [
    {
     "data": {
      "text/plain": [
       "Month  Accident_Severity\n",
       "1.0    Slight               85.198620\n",
       "       Serious              13.483146\n",
       "       Fatal                 1.318234\n",
       "2.0    Slight               85.968370\n",
       "       Serious              12.693101\n",
       "       Fatal                 1.338529\n",
       "3.0    Slight               85.338904\n",
       "       Serious              13.259053\n",
       "       Fatal                 1.402043\n",
       "4.0    Slight               85.285036\n",
       "       Serious              13.401539\n",
       "       Fatal                 1.313425\n",
       "5.0    Slight               85.644161\n",
       "       Serious              13.110804\n",
       "       Fatal                 1.245035\n",
       "6.0    Slight               85.628470\n",
       "       Serious              12.978975\n",
       "       Fatal                 1.392555\n",
       "7.0    Slight               85.520974\n",
       "       Serious              13.191172\n",
       "       Fatal                 1.287854\n",
       "8.0    Slight               85.488729\n",
       "       Serious              13.224423\n",
       "       Fatal                 1.286849\n",
       "9.0    Slight               85.196836\n",
       "       Serious              13.490922\n",
       "       Fatal                 1.312242\n",
       "10.0   Slight               84.812791\n",
       "       Serious              13.874955\n",
       "       Fatal                 1.312254\n",
       "11.0   Slight               85.117540\n",
       "       Serious              13.589299\n",
       "       Fatal                 1.293161\n",
       "12.0   Slight               85.148207\n",
       "       Serious              13.485091\n",
       "       Fatal                 1.366702\n",
       "Name: proportion, dtype: float64"
      ]
     },
     "execution_count": 30,
     "metadata": {},
     "output_type": "execute_result"
    }
   ],
   "source": [
    "df.groupby('Month')['Accident_Severity'].value_counts(normalize=True)* 100"
   ]
  },
  {
   "cell_type": "markdown",
   "id": "a2e3ba0c-a84a-49ab-92a4-2071e4cb5d01",
   "metadata": {},
   "source": [
    "<h2>Insights: The accidents percentage every months are stable there are only slight fluctuations we can assume that it is because there weather,road conditions, and light conditions that month.</h2>"
   ]
  },
  {
   "cell_type": "markdown",
   "id": "03326fbe-51f8-4749-a25a-7cbf7f0b8735",
   "metadata": {},
   "source": [
    "<h2>19. What is the average number of casualties per vehicle type?</h2>"
   ]
  },
  {
   "cell_type": "code",
   "execution_count": 32,
   "id": "edf42a00-f958-4b7c-bfa6-0e126664cd41",
   "metadata": {},
   "outputs": [
    {
     "data": {
      "text/plain": [
       "Vehicle_Type\n",
       "Data missing or out of range             1.500000\n",
       "Pedal cycle                              1.370558\n",
       "Taxi/Private hire car                    1.368663\n",
       "Goods over 3.5t. and under 7.5t          1.362861\n",
       "Motorcycle over 500cc                    1.359434\n",
       "Car                                      1.358841\n",
       "Van / Goods 3.5 tonnes mgw or under      1.354537\n",
       "Goods 7.5 tonnes mgw and over            1.351881\n",
       "Bus or coach (17 or more pass seats)     1.349216\n",
       "Minibus (8 - 16 passenger seats)         1.345648\n",
       "Motorcycle over 125cc and up to 500cc    1.343521\n",
       "Agricultural vehicle                     1.342065\n",
       "Other vehicle                            1.340075\n",
       "Motorcycle 50cc and under                1.337235\n",
       "Motorcycle 125cc and under               1.332635\n",
       "Ridden horse                             1.250000\n",
       "Name: Number_of_Casualties, dtype: float64"
      ]
     },
     "execution_count": 32,
     "metadata": {},
     "output_type": "execute_result"
    }
   ],
   "source": [
    "df.groupby('Vehicle_Type')['Number_of_Casualties'].mean().sort_values(ascending=False)"
   ]
  },
  {
   "cell_type": "markdown",
   "id": "e434e40e-0fd0-4b6c-803e-6324801ac781",
   "metadata": {},
   "source": [
    "<h2>Insights: Pedal cycles and taxis/private hire cars have among the highest averages means the vulnerability of these vehicles or passenger numbers. </h2>"
   ]
  },
  {
   "cell_type": "markdown",
   "id": "4391f35d-f3aa-4bd1-b1a9-82a4d5f7b77f",
   "metadata": {},
   "source": [
    "<h2>Insights: And the least is the horse because it only hits 1.25 percent and it only has a tally of 4 horse accidents over the years.</h2>"
   ]
  },
  {
   "cell_type": "markdown",
   "id": "72d873e2-7fbb-4971-9919-ca473110c1fb",
   "metadata": {},
   "source": [
    "<h2>20. How do accidents vary with day/night light conditions in rural vs. urban areas?</h2>"
   ]
  },
  {
   "cell_type": "code",
   "execution_count": 33,
   "id": "e0cbe9e4-40a0-428a-abd7-4ba814089bd4",
   "metadata": {},
   "outputs": [
    {
     "data": {
      "text/html": [
       "<div>\n",
       "<style scoped>\n",
       "    .dataframe tbody tr th:only-of-type {\n",
       "        vertical-align: middle;\n",
       "    }\n",
       "\n",
       "    .dataframe tbody tr th {\n",
       "        vertical-align: top;\n",
       "    }\n",
       "\n",
       "    .dataframe thead th {\n",
       "        text-align: right;\n",
       "    }\n",
       "</style>\n",
       "<table border=\"1\" class=\"dataframe\">\n",
       "  <thead>\n",
       "    <tr style=\"text-align: right;\">\n",
       "      <th>Light_Conditions</th>\n",
       "      <th>Darkness - lighting unknown</th>\n",
       "      <th>Darkness - lights lit</th>\n",
       "      <th>Darkness - lights unlit</th>\n",
       "      <th>Darkness - no lighting</th>\n",
       "      <th>Daylight</th>\n",
       "    </tr>\n",
       "    <tr>\n",
       "      <th>Urban_or_Rural_Area</th>\n",
       "      <th></th>\n",
       "      <th></th>\n",
       "      <th></th>\n",
       "      <th></th>\n",
       "      <th></th>\n",
       "    </tr>\n",
       "  </thead>\n",
       "  <tbody>\n",
       "    <tr>\n",
       "      <th>Rural</th>\n",
       "      <td>2467</td>\n",
       "      <td>24695</td>\n",
       "      <td>961</td>\n",
       "      <td>35517</td>\n",
       "      <td>175350</td>\n",
       "    </tr>\n",
       "    <tr>\n",
       "      <th>Unallocated</th>\n",
       "      <td>0</td>\n",
       "      <td>2</td>\n",
       "      <td>0</td>\n",
       "      <td>0</td>\n",
       "      <td>9</td>\n",
       "    </tr>\n",
       "    <tr>\n",
       "      <th>Urban</th>\n",
       "      <td>4017</td>\n",
       "      <td>104638</td>\n",
       "      <td>1582</td>\n",
       "      <td>1920</td>\n",
       "      <td>309521</td>\n",
       "    </tr>\n",
       "  </tbody>\n",
       "</table>\n",
       "</div>"
      ],
      "text/plain": [
       "Light_Conditions     Darkness - lighting unknown  Darkness - lights lit  \\\n",
       "Urban_or_Rural_Area                                                       \n",
       "Rural                                       2467                  24695   \n",
       "Unallocated                                    0                      2   \n",
       "Urban                                       4017                 104638   \n",
       "\n",
       "Light_Conditions     Darkness - lights unlit  Darkness - no lighting  Daylight  \n",
       "Urban_or_Rural_Area                                                             \n",
       "Rural                                    961                   35517    175350  \n",
       "Unallocated                                0                       0         9  \n",
       "Urban                                   1582                    1920    309521  "
      ]
     },
     "execution_count": 33,
     "metadata": {},
     "output_type": "execute_result"
    }
   ],
   "source": [
    "accidents_by_light_area = df.groupby(['Urban_or_Rural_Area', 'Light_Conditions']).size().unstack(fill_value=0)\n",
    "accidents_by_light_area"
   ]
  },
  {
   "cell_type": "markdown",
   "id": "44b26484-efbc-4fe0-b873-fc09cdd8ad90",
   "metadata": {},
   "source": [
    "<h2>Insights: Most accidents happen during daylight especially in urban areas (309521) , but in rural areas the number of accidents in complete darkness with no lighting is very high too (35517) this only means that light post in rural areas cant cover there coverages.</h2>"
   ]
  },
  {
   "cell_type": "code",
   "execution_count": null,
   "id": "3885b84a-abee-4f2c-9318-3c50526d78b3",
   "metadata": {},
   "outputs": [],
   "source": []
  }
 ],
 "metadata": {
  "kernelspec": {
   "display_name": "Python 3 (ipykernel)",
   "language": "python",
   "name": "python3"
  },
  "language_info": {
   "codemirror_mode": {
    "name": "ipython",
    "version": 3
   },
   "file_extension": ".py",
   "mimetype": "text/x-python",
   "name": "python",
   "nbconvert_exporter": "python",
   "pygments_lexer": "ipython3",
   "version": "3.13.6"
  }
 },
 "nbformat": 4,
 "nbformat_minor": 5
}
